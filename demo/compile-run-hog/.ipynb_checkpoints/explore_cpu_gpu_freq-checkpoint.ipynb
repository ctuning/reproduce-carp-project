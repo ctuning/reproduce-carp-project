{
 "cells": [
  {
   "cell_type": "code",
   "execution_count": 1,
   "metadata": {
    "collapsed": false
   },
   "outputs": [
    {
     "name": "stdout",
     "output_type": "stream",
     "text": [
      "{'version': ['1', '2', '0605'], 'return': 0, 'version_str': '1.2.0605'}\n"
     ]
    }
   ],
   "source": [
    "# Initiate Collective Knowledge\n",
    "import ck.kernel as ck\n",
    "print ck.version({})"
   ]
  },
  {
   "cell_type": "code",
   "execution_count": 9,
   "metadata": {
    "collapsed": false
   },
   "outputs": [],
   "source": [
    "# Init pipeline\n",
    "import copy\n",
    "\n",
    "ic={\"action\":\"run\",\n",
    "    \n",
    "    \"module_uoa\":\"pipeline\",\n",
    "    \"data_uoa\":\"program\",\n",
    "    \n",
    "    \"program_uoa\":\"realeyes-hog-opencl\",\n",
    "    \n",
    "    \"dataset_uoa\":\"3fe364dc4d218734\",\n",
    "    \n",
    "    \"remove_compiler_vars\":[\"HOG1X1\",\"HOG2X2\",\"HOG4X4\"],\n",
    "    \"compiler_vars\":{\n",
    "      \"HOG2X2\":\"\"\n",
    "    },\n",
    "\n",
    "    \"speed\":\"yes\",\n",
    "\n",
    "    \"no_state_check\":\"yes\", # otherwise will complain about frequency change during experiments\n",
    "    \n",
    "    \"record\":\"yes\",\n",
    "    \"record_uoa\":\"demo-compile-run-hog-2-explore-freq\"\n",
    "   }\n"
   ]
  },
  {
   "cell_type": "code",
   "execution_count": null,
   "metadata": {
    "collapsed": true
   },
   "outputs": [],
   "source": [
    "first=True\n",
    "for cpu_freq in [300000,700000,1100000,1500000,1900000]:\n",
    "    for gpu_freq in [100000000,266000000,420000000,600000000]:\n",
    "        print (cpu_freq,gpu_freq)\n",
    "        ii=copy.deepcopy(ic)\n",
    "        if first:\n",
    "           first=False\n",
    "        else:\n",
    "           ii['no_compile']='yes'\n",
    "        r=ck.access(ii)\n",
    "        if r['return']>0:\n",
    "           print (\"Error:\"+r['error'])\n",
    "           exit(1)\n",
    "\n",
    "        # Experiment output\n",
    "        experiment_desc=r['experiment_desc']\n",
    "        last_iteration_output=r['last_iteration_output']\n",
    "        last_stat_analysis=r['last_stat_analysis']\n",
    "\n",
    "        flat_stat=last_stat_analysis.get('dict_flat')\n",
    "\n",
    "        cpu_freq=flat_stat.get('##characteristics#run#dim_cpu#min',0)\n",
    "        gpu_only=flat_stat.get('##characteristics#run#dim_gpu_only#min',0)\n",
    "        gpu_with_mem=flat_stat.get('##characteristics#run#dim_gpu_with_mem#min',0)\n",
    "\n",
    "        print cpu, gpu_with_mem, gpu_only"
   ]
  }
 ],
 "metadata": {
  "kernelspec": {
   "display_name": "Python 2",
   "language": "python",
   "name": "python2"
  },
  "language_info": {
   "codemirror_mode": {
    "name": "ipython",
    "version": 2
   },
   "file_extension": ".py",
   "mimetype": "text/x-python",
   "name": "python",
   "nbconvert_exporter": "python",
   "pygments_lexer": "ipython2",
   "version": "2.7.3"
  }
 },
 "nbformat": 4,
 "nbformat_minor": 0
}
