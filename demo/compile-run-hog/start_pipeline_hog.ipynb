{
 "metadata": {
  "name": "",
  "signature": "sha256:851bfa32ddd7da97d8ff9f250032dbd22c86002b031ff0996148f562369dddd1"
 },
 "nbformat": 3,
 "nbformat_minor": 0,
 "worksheets": [
  {
   "cells": [
    {
     "cell_type": "code",
     "collapsed": false,
     "input": [
      "# Initiate Collective Knowledge\n",
      "import ck.kernel as ck\n",
      "print ck.version({})"
     ],
     "language": "python",
     "metadata": {},
     "outputs": [
      {
       "output_type": "stream",
       "stream": "stdout",
       "text": [
        "{'version': ['1', '2', '0605'], 'return': 0, 'version_str': '1.2.0605'}\n"
       ]
      }
     ],
     "prompt_number": 1
    },
    {
     "cell_type": "code",
     "collapsed": false,
     "input": [
      "# Init pipeline\n",
      "ii={\"action\":\"run\",\n",
      "    \n",
      "    \"module_uoa\":\"pipeline\",\n",
      "    \"data_uoa\":\"program\",\n",
      "    \n",
      "    \"program_uoa\":\"realeyes-hog-opencl\",\n",
      "    \n",
      "    \"remove_compiler_vars\":[\"HOG1X1\",\"HOG2X2\",\"HOG4X4\"],\n",
      "    \"compiler_vars\":{\n",
      "      \"HOG2X2\":\"\"\n",
      "    },\n",
      "\n",
      "    \"speed\":\"yes\",\n",
      "\n",
      "    \"cpu_freq\":\"max\",\n",
      "    \"gpu_freq\":\"max\",\n",
      "\n",
      "    \"dataset_uoa\":\"3fe364dc4d218734\"\n",
      "   }\n",
      "r=ck.access(ii)\n",
      "if r['return']>0:\n",
      "   print (\"Error:\"+r['error'])\n",
      "   exit(1)"
     ],
     "language": "python",
     "metadata": {},
     "outputs": []
    },
    {
     "cell_type": "code",
     "collapsed": false,
     "input": [
      "# Experiment output\n",
      "experiment_desc=r['experiment_desc']\n",
      "last_iteration_output=r['last_iteration_output']\n",
      "last_stat_analysis=r['last_stat_analysis']\n",
      "\n",
      "flat_stat=last_stat_analysis.get('dict_flat')\n",
      "\n",
      "cpu=flat_stat.get('##characteristics#run#dim_cpu#exp',0)\n",
      "gpu_only=flat_stat.get('##characteristics#run#dim_gpu_with_only#exp',0)\n",
      "gpu_with_mem=flat_stat.get('##characteristics#run#dim_gpu_with_mem#exp',0)\n",
      "\n",
      "print cpu, gpu_with_mem, gpu_only"
     ],
     "language": "python",
     "metadata": {},
     "outputs": []
    },
    {
     "cell_type": "code",
     "collapsed": false,
     "input": [
      "# Save output to json\n",
      "rx=ck.save_json_to_file({'json_file':'tmp-output.json', 'dict':r})\n",
      "if rx['return']>0:\n",
      "   print (\"Error:\"+r['error'])\n",
      "   exit(1)"
     ],
     "language": "python",
     "metadata": {},
     "outputs": []
    }
   ],
   "metadata": {}
  }
 ]
}