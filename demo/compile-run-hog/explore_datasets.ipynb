{
 "cells": [
  {
   "cell_type": "code",
   "execution_count": 5,
   "metadata": {
    "collapsed": false
   },
   "outputs": [
    {
     "name": "stdout",
     "output_type": "stream",
     "text": [
      "{'version': ['1', '2', '0605'], 'return': 0, 'version_str': '1.2.0605'}\n"
     ]
    }
   ],
   "source": [
    "# Initiate Collective Knowledge\n",
    "import ck.kernel as ck\n",
    "print ck.version({})"
   ]
  },
  {
   "cell_type": "code",
   "execution_count": 40,
   "metadata": {
    "collapsed": false
   },
   "outputs": [],
   "source": [
    "# Init pipeline\n",
    "import copy\n",
    "\n",
    "ic={\"action\":\"pipeline\",\n",
    "    \n",
    "    \"module_uoa\":\"program\",\n",
    "    \"prepare\":\"yes\",\n",
    "    \n",
    "    \"program_uoa\":\"realeyes-hog-opencl-tbb\",\n",
    "        \n",
    "    \"remove_compiler_vars\":[\"HOG1X1\",\"HOG2X2\",\"HOG4X4\"],\n",
    "    \"compiler_vars\":{\n",
    "      \"HOG2X2\":\"\"\n",
    "    },\n",
    "\n",
    "    \"speed\":\"yes\",\n",
    "    \n",
    "    \"cpu_freq\":\"max\",\n",
    "    \"gpu_freq\":\"max\",\n",
    "    \n",
    "    \"record\":\"yes\",\n",
    "    \"record_uoa\":\"demo-compile-run-hog-3-explore-freq\"\n",
    "   }"
   ]
  },
  {
   "cell_type": "code",
   "execution_count": 41,
   "metadata": {
    "collapsed": false
   },
   "outputs": [
    {
     "name": "stdout",
     "output_type": "stream",
     "text": [
      "['44ca5ab7a268cf4d', 'ce947b2b6233bdfa', 'ff6a34d62a55c85b', '1a169bc4b8baaddc', 'bf5d476534f04885', '3821f8b25917cab0', '51694ca9764d88b7', '4e64ecddc481c8dd', 'ed469fdd4a37bd88', 'b41491866f4f4ce8', '3fe364dc4d218734', '4070a925b6077f3c', 'b8a5e9fe4d94a468', '1aaaa23c44e588f9', '21500da03e4ccfa3']\n"
     ]
    }
   ],
   "source": [
    "# prepare pipeline to get choices such as datasets\n",
    "ii=copy.deepcopy(ic)\n",
    "r=ck.access(ii)\n",
    "if r['return']>0:\n",
    "   print (\"Error:\"+r['error'])\n",
    "   exit(1)\n",
    "\n",
    "datasets=[]\n",
    "\n",
    "choices_desc=r['choices_desc']\n",
    "for ds in choices_desc.get('##dataset_uoa',{}).get('choices',[]):\n",
    "    datasets.append(ds['data_uid'])    \n",
    "\n",
    "print (datasets)    \n"
   ]
  },
  {
   "cell_type": "code",
   "execution_count": 42,
   "metadata": {
    "collapsed": false
   },
   "outputs": [
    {
     "name": "stdout",
     "output_type": "stream",
     "text": [
      "44ca5ab7a268cf4d\n"
     ]
    },
    {
     "ename": "KeyError",
     "evalue": "'experiment_desc'",
     "output_type": "error",
     "traceback": [
      "\u001b[1;31m---------------------------------------------------------------------------\u001b[0m",
      "\u001b[1;31mKeyError\u001b[0m                                  Traceback (most recent call last)",
      "\u001b[1;32m<ipython-input-42-7e55f07faf81>\u001b[0m in \u001b[0;36m<module>\u001b[1;34m()\u001b[0m\n\u001b[0;32m     18\u001b[0m \u001b[1;33m\u001b[0m\u001b[0m\n\u001b[0;32m     19\u001b[0m     \u001b[1;31m# Experiment output\u001b[0m\u001b[1;33m\u001b[0m\u001b[1;33m\u001b[0m\u001b[0m\n\u001b[1;32m---> 20\u001b[1;33m     \u001b[0mexperiment_desc\u001b[0m\u001b[1;33m=\u001b[0m\u001b[0mr\u001b[0m\u001b[1;33m[\u001b[0m\u001b[1;34m'experiment_desc'\u001b[0m\u001b[1;33m]\u001b[0m\u001b[1;33m\u001b[0m\u001b[0m\n\u001b[0m\u001b[0;32m     21\u001b[0m     \u001b[0mlast_iteration_output\u001b[0m\u001b[1;33m=\u001b[0m\u001b[0mr\u001b[0m\u001b[1;33m[\u001b[0m\u001b[1;34m'last_iteration_output'\u001b[0m\u001b[1;33m]\u001b[0m\u001b[1;33m\u001b[0m\u001b[0m\n\u001b[0;32m     22\u001b[0m     \u001b[0mlast_stat_analysis\u001b[0m\u001b[1;33m=\u001b[0m\u001b[0mr\u001b[0m\u001b[1;33m[\u001b[0m\u001b[1;34m'last_stat_analysis'\u001b[0m\u001b[1;33m]\u001b[0m\u001b[1;33m\u001b[0m\u001b[0m\n",
      "\u001b[1;31mKeyError\u001b[0m: 'experiment_desc'"
     ]
    }
   ],
   "source": [
    "ic['action']\n",
    "\n",
    "first=True\n",
    "for ds in datasets:\n",
    "    print (ds)\n",
    "        \n",
    "    ii=copy.deepcopy(ic)\n",
    "        \n",
    "    if first:\n",
    "        first=False\n",
    "    else:\n",
    "        ii['no_compile']='yes'\n",
    "        \n",
    "    ii['dataset_uoa']=ds\n",
    "        \n",
    "    r=ck.access(ii)\n",
    "    if r['return']>0:\n",
    "        print (\"Error:\"+r['error'])\n",
    "        exit(1)\n",
    "\n",
    "    # Experiment output\n",
    "    experiment_desc=r['experiment_desc']\n",
    "    last_iteration_output=r['last_iteration_output']\n",
    "    last_stat_analysis=r['last_stat_analysis']\n",
    "\n",
    "    flat_stat=last_stat_analysis.get('dict_flat')\n",
    "\n",
    "    cpu=flat_stat.get('##characteristics#run#dim_cpu#min',0)\n",
    "    gpu_only=flat_stat.get('##characteristics#run#dim_gpu_only#min',0)\n",
    "    gpu_with_mem=flat_stat.get('##characteristics#run#dim_gpu_with_mem#min',0)\n",
    "\n",
    "    print (cpu, gpu_with_mem, gpu_only)"
   ]
  },
  {
   "cell_type": "code",
   "execution_count": null,
   "metadata": {
    "collapsed": true
   },
   "outputs": [],
   "source": []
  }
 ],
 "metadata": {
  "kernelspec": {
   "display_name": "Python 2",
   "language": "python",
   "name": "python2"
  },
  "language_info": {
   "codemirror_mode": {
    "name": "ipython",
    "version": 2
   },
   "file_extension": ".py",
   "mimetype": "text/x-python",
   "name": "python",
   "nbconvert_exporter": "python",
   "pygments_lexer": "ipython2",
   "version": "2.7.3"
  }
 },
 "nbformat": 4,
 "nbformat_minor": 0
}
